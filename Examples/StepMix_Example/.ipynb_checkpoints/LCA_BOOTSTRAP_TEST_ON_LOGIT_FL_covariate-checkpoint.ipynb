{
 "cells": [
  {
   "cell_type": "code",
   "execution_count": 6,
   "id": "e6d7312a-6f4d-4d57-807b-7552b7bab5a8",
   "metadata": {},
   "outputs": [],
   "source": [
    "from stepmix.stepmix import StepMix\n",
    "from stepmix.datasets import data_bakk_response, data_bakk_covariate\n",
    "import seaborn as sns\n",
    "import pandas as pd\n",
    "import numpy as np\n",
    "import matplotlib.pyplot as plt\n",
    "from sklearn.datasets import load_iris\n",
    "from sklearn.metrics import rand_score\n",
    "from sklearn.model_selection import GridSearchCV, ParameterGrid\n",
    "from stepmix.utils import get_mixed_descriptor\n",
    "from scipy.stats import norm\n",
    "\n",
    "X, Y, target = data_bakk_covariate(n_samples=2000, sep_level=.9,\n",
    "                                   random_state=42)"
   ]
  },
  {
   "cell_type": "code",
   "execution_count": 7,
   "id": "273e0625-71e5-426c-a454-1102985b18ef",
   "metadata": {},
   "outputs": [
    {
     "name": "stdout",
     "output_type": "stream",
     "text": [
      "Fitting StepMix...\n"
     ]
    },
    {
     "name": "stderr",
     "output_type": "stream",
     "text": [
      "Initializations (n_init) : 100%|█| 1/1 [00:00<00:00, 14.18it/s, max_LL=-5.19e+3, max_avg_LL=-2.6\n"
     ]
    },
    {
     "data": {
      "text/html": [
       "<style>#sk-container-id-3 {color: black;}#sk-container-id-3 pre{padding: 0;}#sk-container-id-3 div.sk-toggleable {background-color: white;}#sk-container-id-3 label.sk-toggleable__label {cursor: pointer;display: block;width: 100%;margin-bottom: 0;padding: 0.3em;box-sizing: border-box;text-align: center;}#sk-container-id-3 label.sk-toggleable__label-arrow:before {content: \"▸\";float: left;margin-right: 0.25em;color: #696969;}#sk-container-id-3 label.sk-toggleable__label-arrow:hover:before {color: black;}#sk-container-id-3 div.sk-estimator:hover label.sk-toggleable__label-arrow:before {color: black;}#sk-container-id-3 div.sk-toggleable__content {max-height: 0;max-width: 0;overflow: hidden;text-align: left;background-color: #f0f8ff;}#sk-container-id-3 div.sk-toggleable__content pre {margin: 0.2em;color: black;border-radius: 0.25em;background-color: #f0f8ff;}#sk-container-id-3 input.sk-toggleable__control:checked~div.sk-toggleable__content {max-height: 200px;max-width: 100%;overflow: auto;}#sk-container-id-3 input.sk-toggleable__control:checked~label.sk-toggleable__label-arrow:before {content: \"▾\";}#sk-container-id-3 div.sk-estimator input.sk-toggleable__control:checked~label.sk-toggleable__label {background-color: #d4ebff;}#sk-container-id-3 div.sk-label input.sk-toggleable__control:checked~label.sk-toggleable__label {background-color: #d4ebff;}#sk-container-id-3 input.sk-hidden--visually {border: 0;clip: rect(1px 1px 1px 1px);clip: rect(1px, 1px, 1px, 1px);height: 1px;margin: -1px;overflow: hidden;padding: 0;position: absolute;width: 1px;}#sk-container-id-3 div.sk-estimator {font-family: monospace;background-color: #f0f8ff;border: 1px dotted black;border-radius: 0.25em;box-sizing: border-box;margin-bottom: 0.5em;}#sk-container-id-3 div.sk-estimator:hover {background-color: #d4ebff;}#sk-container-id-3 div.sk-parallel-item::after {content: \"\";width: 100%;border-bottom: 1px solid gray;flex-grow: 1;}#sk-container-id-3 div.sk-label:hover label.sk-toggleable__label {background-color: #d4ebff;}#sk-container-id-3 div.sk-serial::before {content: \"\";position: absolute;border-left: 1px solid gray;box-sizing: border-box;top: 0;bottom: 0;left: 50%;z-index: 0;}#sk-container-id-3 div.sk-serial {display: flex;flex-direction: column;align-items: center;background-color: white;padding-right: 0.2em;padding-left: 0.2em;position: relative;}#sk-container-id-3 div.sk-item {position: relative;z-index: 1;}#sk-container-id-3 div.sk-parallel {display: flex;align-items: stretch;justify-content: center;background-color: white;position: relative;}#sk-container-id-3 div.sk-item::before, #sk-container-id-3 div.sk-parallel-item::before {content: \"\";position: absolute;border-left: 1px solid gray;box-sizing: border-box;top: 0;bottom: 0;left: 50%;z-index: -1;}#sk-container-id-3 div.sk-parallel-item {display: flex;flex-direction: column;z-index: 1;position: relative;background-color: white;}#sk-container-id-3 div.sk-parallel-item:first-child::after {align-self: flex-end;width: 50%;}#sk-container-id-3 div.sk-parallel-item:last-child::after {align-self: flex-start;width: 50%;}#sk-container-id-3 div.sk-parallel-item:only-child::after {width: 0;}#sk-container-id-3 div.sk-dashed-wrapped {border: 1px dashed gray;margin: 0 0.4em 0.5em 0.4em;box-sizing: border-box;padding-bottom: 0.4em;background-color: white;}#sk-container-id-3 div.sk-label label {font-family: monospace;font-weight: bold;display: inline-block;line-height: 1.2em;}#sk-container-id-3 div.sk-label-container {text-align: center;}#sk-container-id-3 div.sk-container {/* jupyter's `normalize.less` sets `[hidden] { display: none; }` but bootstrap.min.css set `[hidden] { display: none !important; }` so we also need the `!important` here to be able to override the default hidden behavior on the sphinx rendered scikit-learn.org. See: https://github.com/scikit-learn/scikit-learn/issues/21755 */display: inline-block !important;position: relative;}#sk-container-id-3 div.sk-text-repr-fallback {display: none;}</style><div id=\"sk-container-id-3\" class=\"sk-top-container\"><div class=\"sk-text-repr-fallback\"><pre>StepMix(max_iter=2000, n_components=3, random_state=42, structural=&#x27;covariate&#x27;)</pre><b>In a Jupyter environment, please rerun this cell to show the HTML representation or trust the notebook. <br />On GitHub, the HTML representation is unable to render, please try loading this page with nbviewer.org.</b></div><div class=\"sk-container\" hidden><div class=\"sk-item\"><div class=\"sk-estimator sk-toggleable\"><input class=\"sk-toggleable__control sk-hidden--visually\" id=\"sk-estimator-id-3\" type=\"checkbox\" checked><label for=\"sk-estimator-id-3\" class=\"sk-toggleable__label sk-toggleable__label-arrow\">StepMix</label><div class=\"sk-toggleable__content\"><pre>StepMix(max_iter=2000, n_components=3, random_state=42, structural=&#x27;covariate&#x27;)</pre></div></div></div></div></div>"
      ],
      "text/plain": [
       "StepMix(max_iter=2000, n_components=3, random_state=42, structural='covariate')"
      ]
     },
     "execution_count": 7,
     "metadata": {},
     "output_type": "execute_result"
    }
   ],
   "source": [
    "# On propose un modèle de mesure dichotomique avec une covariable catégorielle\n",
    "model = StepMix(n_components=3, n_steps=1, measurement='bernoulli',\n",
    "                structural='covariate', random_state=42, verbose=0,\n",
    "                max_iter=2000)\n",
    "model.fit(X, Y)"
   ]
  },
  {
   "cell_type": "code",
   "execution_count": 8,
   "id": "4487261b-681a-464f-9734-5176ff2317dd",
   "metadata": {},
   "outputs": [
    {
     "data": {
      "text/plain": [
       "{'beta': array([[-3.29006846,  1.03822369],\n",
       "        [ 0.44527222,  0.0118777 ],\n",
       "        [ 2.84325019, -1.04863614]])}"
      ]
     },
     "execution_count": 8,
     "metadata": {},
     "output_type": "execute_result"
    }
   ],
   "source": [
    "###beta sans bootstrap ###\n",
    "# On soustrait la **DEUXIÈME** colonne pour normaliser les résultats. \n",
    "param = model.get_parameters()\n",
    "param['structural']"
   ]
  },
  {
   "cell_type": "code",
   "execution_count": 9,
   "id": "d25ad185-0819-4ae3-9daf-754cc654b111",
   "metadata": {},
   "outputs": [
    {
     "data": {
      "text/plain": [
       "array([[-3.73534067,  1.02634599],\n",
       "       [ 0.        ,  0.        ],\n",
       "       [ 2.39797797, -1.06051385]])"
      ]
     },
     "execution_count": 9,
     "metadata": {},
     "output_type": "execute_result"
    }
   ],
   "source": [
    "\n",
    "BETA = param['structural']['beta']\n",
    "BETA -= BETA [1, :].reshape((1, -1))\n",
    "BETA"
   ]
  },
  {
   "cell_type": "markdown",
   "id": "09560115-11f7-4d8b-aaac-977e171d7920",
   "metadata": {},
   "source": [
    "## Bootstrap"
   ]
  },
  {
   "cell_type": "code",
   "execution_count": 5,
   "id": "f098ef10-6027-4297-9412-e29d45a57d99",
   "metadata": {},
   "outputs": [
    {
     "name": "stdout",
     "output_type": "stream",
     "text": [
      "\n",
      "Bootstrapping estimator...\n"
     ]
    },
    {
     "name": "stderr",
     "output_type": "stream",
     "text": [
      "Bootstrap Repetitions    : 100%|█| 1000/1000 [01:02<00:00, 15.91it/s, max_LL=-4.95e+3, median_LL\n",
      "C:\\Python311\\Lib\\site-packages\\stepmix\\stepmix.py:1173: FutureWarning: The provided callable <function mean at 0x0000016874FCF4C0> is currently using DataFrameGroupBy.mean. In a future version of pandas, the provided callable will be used directly. To keep current behavior pass 'mean' instead.\n",
      "  return pd.pivot_table(\n",
      "C:\\Python311\\Lib\\site-packages\\stepmix\\stepmix.py:1173: FutureWarning: The provided callable <function std at 0x0000016874FCF600> is currently using DataFrameGroupBy.std. In a future version of pandas, the provided callable will be used directly. To keep current behavior pass 'std' instead.\n",
      "  return pd.pivot_table(\n",
      "C:\\Python311\\Lib\\site-packages\\stepmix\\stepmix.py:1173: FutureWarning: The provided callable <function mean at 0x0000016874FCF4C0> is currently using DataFrameGroupBy.mean. In a future version of pandas, the provided callable will be used directly. To keep current behavior pass 'mean' instead.\n",
      "  return pd.pivot_table(\n",
      "C:\\Python311\\Lib\\site-packages\\stepmix\\stepmix.py:1173: FutureWarning: The provided callable <function std at 0x0000016874FCF600> is currently using DataFrameGroupBy.std. In a future version of pandas, the provided callable will be used directly. To keep current behavior pass 'std' instead.\n",
      "  return pd.pivot_table(\n"
     ]
    }
   ],
   "source": [
    "# On effectue 1000 échantillons boostrap de nos valeurs.\n",
    "bs_params = model.bootstrap_stats(X, Y, n_repetitions=1000)"
   ]
  },
  {
   "cell_type": "code",
   "execution_count": 11,
   "id": "8dbc657b-543f-4ff7-a697-a88fd45309cd",
   "metadata": {},
   "outputs": [
    {
     "data": {
      "text/plain": [
       "model_name  param  class_no  variable \n",
       "covariate   beta   0         feature_0    0.966764\n",
       "                             feature_0    1.027093\n",
       "                             feature_0    1.104779\n",
       "                             feature_0    1.004954\n",
       "                             feature_0    1.009361\n",
       "                                            ...   \n",
       "                   2         intercept    2.882235\n",
       "                             intercept    2.805039\n",
       "                             intercept    2.979661\n",
       "                             intercept    2.797481\n",
       "                             intercept    2.799218\n",
       "Name: value, Length: 6000, dtype: float64"
      ]
     },
     "execution_count": 11,
     "metadata": {},
     "output_type": "execute_result"
    }
   ],
   "source": [
    "# j'extrait les 6 paramètres logit non-normalisés en une seule colonne.\n",
    "logit_1col = bs_params['samples'].xs(\"structural\").iloc[:, 0]\n",
    "logit_1col # deux \"types\" de beta : 1) feature_0 ; 2) intercept"
   ]
  },
  {
   "cell_type": "code",
   "execution_count": 50,
   "id": "ee814706-0d86-4292-85ea-e26ebcf936e6",
   "metadata": {},
   "outputs": [],
   "source": [
    "logit_3cols = logit_1col.values.reshape([6, 1000]).transpose()\n",
    "logit_3cols = pd.DataFrame(logit_3cols).iloc[:,[1, 0, 3, 2, 5, 4]]\n",
    "logit_ref = pd.concat([logit_3cols.iloc[:, [2, 3]], logit_3cols.iloc[:, [2, 3]], logit_3cols.iloc[:, [2, 3]]], axis = 1)\n",
    "logit_ref.columns = [0, 1, 2, 3, 4, 5]\n",
    "logit_3cols.columns = [0, 1, 2, 3, 4, 5]\n",
    "logit_3cols = logit_3cols - logit_ref\n",
    "# feature_0 = colonnes 1-2-3 \n",
    "# intercept = colonnes 4-5-6\n",
    "\n",
    "# On ne peut donc pas utiliser la fonction .sub(logit_3cols.iloc[:,0], axis=0)\n",
    "  #car les bêtas de feature_0 et l'intercept ne sont pas séparés"
   ]
  },
  {
   "cell_type": "code",
   "execution_count": 11,
   "id": "0f89d02f-ad5c-4b3c-8705-8c0c7bcbb40e",
   "metadata": {},
   "outputs": [
    {
     "data": {
      "text/plain": [
       "array([[-3.73534067,  1.02634599],\n",
       "       [ 0.        ,  0.        ],\n",
       "       [ 2.39797797, -1.06051385]])"
      ]
     },
     "execution_count": 11,
     "metadata": {},
     "output_type": "execute_result"
    }
   ],
   "source": [
    "# Betas normalisés obtenus sans bootstrap\n",
    "BETA"
   ]
  },
  {
   "cell_type": "code",
   "execution_count": 51,
   "id": "bcb4816a-31d4-4096-9f79-735ca2073903",
   "metadata": {},
   "outputs": [
    {
     "data": {
      "text/html": [
       "<div>\n",
       "<style scoped>\n",
       "    .dataframe tbody tr th:only-of-type {\n",
       "        vertical-align: middle;\n",
       "    }\n",
       "\n",
       "    .dataframe tbody tr th {\n",
       "        vertical-align: top;\n",
       "    }\n",
       "\n",
       "    .dataframe thead th {\n",
       "        text-align: right;\n",
       "    }\n",
       "</style>\n",
       "<table border=\"1\" class=\"dataframe\">\n",
       "  <thead>\n",
       "    <tr style=\"text-align: right;\">\n",
       "      <th></th>\n",
       "      <th>mean</th>\n",
       "      <th>se</th>\n",
       "      <th>z</th>\n",
       "      <th>p-value</th>\n",
       "    </tr>\n",
       "  </thead>\n",
       "  <tbody>\n",
       "    <tr>\n",
       "      <th>0</th>\n",
       "      <td>-3.761997</td>\n",
       "      <td>0.258371</td>\n",
       "      <td>-14.560445</td>\n",
       "      <td>5.013054e-48</td>\n",
       "    </tr>\n",
       "    <tr>\n",
       "      <th>1</th>\n",
       "      <td>1.033944</td>\n",
       "      <td>0.065703</td>\n",
       "      <td>15.736675</td>\n",
       "      <td>8.478353e-56</td>\n",
       "    </tr>\n",
       "    <tr>\n",
       "      <th>2</th>\n",
       "      <td>0.000000</td>\n",
       "      <td>0.000000</td>\n",
       "      <td>NaN</td>\n",
       "      <td>NaN</td>\n",
       "    </tr>\n",
       "    <tr>\n",
       "      <th>3</th>\n",
       "      <td>0.000000</td>\n",
       "      <td>0.000000</td>\n",
       "      <td>NaN</td>\n",
       "      <td>NaN</td>\n",
       "    </tr>\n",
       "    <tr>\n",
       "      <th>4</th>\n",
       "      <td>2.405852</td>\n",
       "      <td>0.161580</td>\n",
       "      <td>14.889531</td>\n",
       "      <td>3.854654e-50</td>\n",
       "    </tr>\n",
       "    <tr>\n",
       "      <th>5</th>\n",
       "      <td>-1.063938</td>\n",
       "      <td>0.070439</td>\n",
       "      <td>-15.104410</td>\n",
       "      <td>1.514549e-51</td>\n",
       "    </tr>\n",
       "  </tbody>\n",
       "</table>\n",
       "</div>"
      ],
      "text/plain": [
       "       mean        se          z       p-value\n",
       "0 -3.761997  0.258371 -14.560445  5.013054e-48\n",
       "1  1.033944  0.065703  15.736675  8.478353e-56\n",
       "2  0.000000  0.000000        NaN           NaN\n",
       "3  0.000000  0.000000        NaN           NaN\n",
       "4  2.405852  0.161580  14.889531  3.854654e-50\n",
       "5 -1.063938  0.070439 -15.104410  1.514549e-51"
      ]
     },
     "execution_count": 51,
     "metadata": {},
     "output_type": "execute_result"
    }
   ],
   "source": [
    "pd.DataFrame({\"mean\": logit_3cols.apply(np.mean, axis = 0),\n",
    "              \"se\": logit_3cols.apply(np.std, axis = 0),\n",
    "              \"z\": logit_3cols.apply(np.mean, axis = 0)/logit_3cols.apply(np.std, axis = 0),\n",
    "              \"p-value\": 2*norm.cdf(-np.abs(logit_3cols.apply(np.mean, axis = 0)/logit_3cols.apply(np.std, axis = 0)))})."
   ]
  }
 ],
 "metadata": {
  "kernelspec": {
   "display_name": "Python 3 (ipykernel)",
   "language": "python",
   "name": "python3"
  },
  "language_info": {
   "codemirror_mode": {
    "name": "ipython",
    "version": 3
   },
   "file_extension": ".py",
   "mimetype": "text/x-python",
   "name": "python",
   "nbconvert_exporter": "python",
   "pygments_lexer": "ipython3",
   "version": "3.11.5"
  }
 },
 "nbformat": 4,
 "nbformat_minor": 5
}
